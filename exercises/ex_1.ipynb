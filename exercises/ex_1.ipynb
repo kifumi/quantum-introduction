{
 "cells": [
  {
   "cell_type": "markdown",
   "metadata": {},
   "source": [
    "# １量子ビット回路\n",
    "まず1量子ビット回路から始めます。"
   ]
  },
  {
   "cell_type": "code",
   "execution_count": 1,
   "metadata": {},
   "outputs": [],
   "source": [
    "# Qiskitライブラリーを導入\n",
    "from qiskit import *\n",
    "from qiskit.visualization import *\n",
    "\n",
    "# 描画のためのライブラリーを導入\n",
    "import matplotlib.pyplot as plt\n",
    "%matplotlib inline"
   ]
  },
  {
   "cell_type": "code",
   "execution_count": null,
   "metadata": {},
   "outputs": [],
   "source": [
    "# １量子ビット回路を用意\n",
    "q = QuantumCircuit(1) \n",
    "\n",
    "# 回路を描画\n",
    "q.draw(output=\"mpl\")"
   ]
  },
  {
   "cell_type": "code",
   "execution_count": null,
   "metadata": {},
   "outputs": [],
   "source": [
    "q = QuantumCircuit(1)    # １量子ビット回路を用意\n",
    "\n",
    "# Xゲートを0番目の量子ビットに操作します。\n",
    "# コードを記入\n",
    "\n",
    "# 回路を描画\n",
    "q.draw(output=\"mpl\")"
   ]
  },
  {
   "cell_type": "markdown",
   "metadata": {},
   "source": [
    "IBMQでは、初期状態は|0>にセットされていますので、上記の量子回路は、行列ベクトル表示では\n",
    "\n",
    "$X|0\\rangle=  \\begin{pmatrix}\n",
    "0 & 1 \\\\\\\n",
    "1 & 0\n",
    "\\end{pmatrix} \n",
    "\\begin{pmatrix}\n",
    "1 \\\\\\\n",
    "0\n",
    "\\end{pmatrix} \n",
    " =\\begin{pmatrix}\n",
    "0 \\\\\\\n",
    "1\n",
    "\\end{pmatrix} = |1\\rangle$ \n",
    "\n",
    "となります。次にこの回路の出力ベクトルを状態ベクトルシミュレーターを使って実行してみます。"
   ]
  },
  {
   "cell_type": "code",
   "execution_count": null,
   "metadata": {},
   "outputs": [],
   "source": [
    "# 状態ベクトルシミュレーターの実行\n",
    "backend = Aer.get_backend('statevector_simulator')\n",
    "result = execute(q, backend).result().get_statevector(q, decimals=3)\n",
    "print(result)\n",
    "\n",
    "# ブロッホ球の表示\n",
    "plot_bloch_multivector(result)"
   ]
  },
  {
   "cell_type": "markdown",
   "metadata": {},
   "source": [
    "縦ベクトルが横ベクトルになり、複素数表示で表示されています。"
   ]
  },
  {
   "cell_type": "code",
   "execution_count": null,
   "metadata": {},
   "outputs": [],
   "source": [
    "q = QuantumCircuit(1)    # １量子ビット回路を用意 \n",
    "\n",
    "# Hゲートを0番目の量子ビットに操作します。\n",
    "# コードを記入\n",
    "\n",
    "# 回路を描画\n",
    "q.draw(output=\"mpl\")"
   ]
  },
  {
   "cell_type": "code",
   "execution_count": null,
   "metadata": {},
   "outputs": [],
   "source": [
    "# 状態ベクトルシミュレーターの実行\n",
    "backend = Aer.get_backend('statevector_simulator')\n",
    "result = execute(q, backend).result().get_statevector(q, decimals=3)\n",
    "print(result)\n",
    "\n",
    "# ブロッホ球の表示\n",
    "plot_bloch_multivector(result)"
   ]
  },
  {
   "cell_type": "markdown",
   "metadata": {},
   "source": [
    "これは、$H|0\\rangle= \\frac{1}{\\sqrt{2}} \\begin{pmatrix}\n",
    "1 & 1 \\\\\\\n",
    "1 & -1\n",
    "\\end{pmatrix} \n",
    "\\begin{pmatrix}\n",
    "1 \\\\\\\n",
    "0\n",
    "\\end{pmatrix} \n",
    " =\\frac{1}{\\sqrt{2}}\\begin{pmatrix}\n",
    "1 \\\\\\\n",
    "1\n",
    "\\end{pmatrix} \n",
    "=\\begin{pmatrix}\n",
    "0.707 \\\\\\\n",
    "0.707\n",
    "\\end{pmatrix} \n",
    "=\\frac{1}{\\sqrt{2}}（|0\\rangle+|1\\rangle)$ です。\n",
    "\n",
    "\n",
    "\n",
    "\n",
    "つまり、$H$ゲートを$|0\\rangle$に実行すると、$|0\\rangle$と$|1\\rangle$の均等な重ね合わせ状態が作れることが分かります。"
   ]
  },
  {
   "cell_type": "code",
   "execution_count": null,
   "metadata": {},
   "outputs": [],
   "source": [
    "q = QuantumCircuit(1)    # １量子ビット回路を用意 \n",
    "\n",
    "# Xゲートを0番目の量子ビットに操作します。\n",
    "# コードを記入\n",
    "\n",
    "# 次にHゲートを0番目の量子ビットに操作します。\n",
    "# コードを記入\n",
    "\n",
    "# 回路を描画\n",
    "q.draw(output=\"mpl\")"
   ]
  },
  {
   "cell_type": "code",
   "execution_count": null,
   "metadata": {},
   "outputs": [],
   "source": [
    "# 状態ベクトルシミュレーターの実行\n",
    "backend = Aer.get_backend('statevector_simulator')\n",
    "result = execute(q, backend).result().get_statevector(q, decimals=3)\n",
    "print(result)\n",
    "\n",
    "# ブロッホ球の表示\n",
    "plot_bloch_multivector(result)"
   ]
  },
  {
   "cell_type": "markdown",
   "metadata": {},
   "source": [
    "$H|1\\rangle= \\frac{1}{\\sqrt{2}} \\begin{pmatrix}\n",
    "1 & 1 \\\\\\\n",
    "1 & -1\n",
    "\\end{pmatrix} \n",
    "\\begin{pmatrix}\n",
    "0 \\\\\\\n",
    "1\n",
    "\\end{pmatrix} \n",
    " =\\frac{1}{\\sqrt{2}}\\begin{pmatrix}\n",
    "1 \\\\\\\n",
    "-1\n",
    "\\end{pmatrix} \n",
    "=\\begin{pmatrix}\n",
    "0.707 \\\\\\\n",
    "-0.707\n",
    "\\end{pmatrix} \n",
    "=\\frac{1}{\\sqrt{2}}（|0\\rangle-|1\\rangle)$\n",
    "\n",
    "\n",
    "$|1\\rangle$に$H$ゲートを実行した結果、$|0\\rangle$と$|1\\rangle$の均等な重ね合わせ状態になりますが、$|1\\rangle$の符号がマイナスになります。"
   ]
  },
  {
   "cell_type": "code",
   "execution_count": null,
   "metadata": {},
   "outputs": [],
   "source": [
    "q = QuantumCircuit(1)    # １量子ビット回路を用意 \n",
    "\n",
    "# Hゲートを0番目の量子ビットに操作します。\n",
    "# コードを記入\n",
    "\n",
    "# 次にZゲートを0番目の量子ビットに操作します。\n",
    "# コードを記入\n",
    "\n",
    "# 回路を描画\n",
    "q.draw(output=\"mpl\")"
   ]
  },
  {
   "cell_type": "code",
   "execution_count": null,
   "metadata": {},
   "outputs": [],
   "source": [
    "# 状態ベクトルシミュレーターの実行\n",
    "backend = Aer.get_backend('statevector_simulator')\n",
    "result = execute(q, backend).result().get_statevector(q, decimals=3)\n",
    "print(result)\n",
    "\n",
    "# ブロッホ球の表示\n",
    "plot_bloch_multivector(result)"
   ]
  },
  {
   "cell_type": "markdown",
   "metadata": {},
   "source": [
    "$ZH|0\\rangle= Z (\\frac{1}{\\sqrt{2}}（|0\\rangle+|1\\rangle))=\\frac{1}{\\sqrt{2}}\\begin{pmatrix}\n",
    "1 & 0 \\\\\\\n",
    "0 & -1\n",
    "\\end{pmatrix} \n",
    "\\begin{pmatrix}\n",
    "1 \\\\\\\n",
    "1\n",
    "\\end{pmatrix} \n",
    "=\\frac{1}{\\sqrt{2}}\\begin{pmatrix}\n",
    "1 \\\\\\\n",
    "-1\n",
    "\\end{pmatrix} =\\frac{1}{\\sqrt{2}}（|0\\rangle-|1\\rangle) $\n"
   ]
  },
  {
   "cell_type": "code",
   "execution_count": null,
   "metadata": {},
   "outputs": [],
   "source": [
    "q = QuantumCircuit(1)    # １量子ビット回路を用意  \n",
    "\n",
    "# Xゲートを0番目の量子ビットに操作します。\n",
    "# コードを記入\n",
    "\n",
    "# 次にHゲートを0番目の量子ビットに操作します。\n",
    "# コードを記入\n",
    "\n",
    "# 次にZゲートを0番目の量子ビットに操作します。\n",
    "# コードを記入\n",
    "\n",
    "# 回路を描画\n",
    "q.draw(output=\"mpl\")"
   ]
  },
  {
   "cell_type": "code",
   "execution_count": null,
   "metadata": {},
   "outputs": [],
   "source": [
    "# 状態ベクトルシミュレーターの実行\n",
    "backend = Aer.get_backend('statevector_simulator')\n",
    "result = execute(q, backend).result().get_statevector(q, decimals=3)\n",
    "print(result)\n",
    "\n",
    "# ブロッホ球の表示\n",
    "plot_bloch_multivector(result)"
   ]
  },
  {
   "cell_type": "markdown",
   "metadata": {},
   "source": [
    "$ZH|1\\rangle= Z (\\frac{1}{\\sqrt{2}}（|0\\rangle-|1\\rangle))=\\frac{1}{\\sqrt{2}}\\begin{pmatrix}\n",
    "1 & 0 \\\\\\\n",
    "0 & -1\n",
    "\\end{pmatrix} \n",
    "\\begin{pmatrix}\n",
    "1 \\\\\\\n",
    "-1\n",
    "\\end{pmatrix} \n",
    "=\\frac{1}{\\sqrt{2}}\\begin{pmatrix}\n",
    "1 \\\\\\\n",
    "1\n",
    "\\end{pmatrix} =\\frac{1}{\\sqrt{2}}（|0\\rangle+|1\\rangle) $"
   ]
  },
  {
   "cell_type": "markdown",
   "metadata": {},
   "source": [
    "# 2量子ビット回路"
   ]
  },
  {
   "cell_type": "code",
   "execution_count": null,
   "metadata": {},
   "outputs": [],
   "source": [
    "# ２量子ビット回路を作成します。\n",
    "q = QuantumCircuit(2) \n",
    "\n",
    "# Hゲートを0番目の量子ビットに操作します。\n",
    "# コードを記入\n",
    "\n",
    "# Hゲートを1番目の量子ビットに操作します。\n",
    "# コードを記入\n",
    "\n",
    "# 回路を描画\n",
    "q.draw(output=\"mpl\")"
   ]
  },
  {
   "cell_type": "code",
   "execution_count": null,
   "metadata": {},
   "outputs": [],
   "source": [
    "# 状態ベクトルシミュレーターの実行\n",
    "backend = Aer.get_backend('statevector_simulator')\n",
    "result = execute(q, backend).result().get_statevector(q, decimals=3)\n",
    "print(result)"
   ]
  },
  {
   "cell_type": "markdown",
   "metadata": {},
   "source": [
    "２量子ビットの状態は、１量子ビットの積（テンソル積）で表せます。\n",
    "\n",
    "$|q0\\rangle \\otimes|q1\\rangle = (a|0\\rangle+b|1\\rangle) \\otimes (c|0\\rangle+d|1\\rangle) $\n",
    "\n",
    "$= ac|0\\rangle|0\\rangle+ad|0\\rangle|1\\rangle+bc|1\\rangle|0\\rangle+bd|1\\rangle|1\\rangle$\n",
    "\n",
    "$= ac|00\\rangle+ad|01\\rangle+bc|10\\rangle+bd|11\\rangle$\n",
    "\n",
    "(ただし、$|ac|^2+ |ad|^2+ |bc|^2+ |bd|^2=1$ )\n",
    "\n",
    "\n",
    "Qiskitの初期値は、$|0\\rangle|0\\rangle=|00\\rangle$なので、$H$をそれぞれの量子ビットに操作させることで均等な重ね合わせの状態になります。\n",
    "\n",
    "$H|0\\rangle \\otimes H|0\\rangle=\\frac{1}{\\sqrt{2}}(|0\\rangle+|1\\rangle) \\otimes \\frac{1}{\\sqrt{2}}(|0\\rangle+|1\\rangle) = \\frac{1}{2}(|00\\rangle+|01\\rangle+|10\\rangle+|11\\rangle)$\n",
    "\n",
    "$$ \n",
    "=\\frac{1}{2}\\left( \\begin{bmatrix} 1 \\\\ 1 \\end{bmatrix} \\otimes \\begin{bmatrix} 1 \\\\ 1 \\end{bmatrix}\\right) = \\frac{1}{2}\\begin{bmatrix} 1 \\\\ 1 \\\\ 1 \\\\ 1 \\end{bmatrix}=\\frac{1}{2}\\left(\\begin{bmatrix} 1 \\\\ 0 \\\\ 0 \\\\ 0 \\end{bmatrix}+\\begin{bmatrix} 0 \\\\ 1 \\\\ 0 \\\\ 0 \\end{bmatrix}+\\begin{bmatrix} 0 \\\\ 0 \\\\ 1 \\\\ 0 \\end{bmatrix}+\\begin{bmatrix} 0 \\\\ 0 \\\\ 0 \\\\ 1 \\end{bmatrix}\\right)\n",
    "$$\n"
   ]
  },
  {
   "cell_type": "code",
   "execution_count": null,
   "metadata": {},
   "outputs": [],
   "source": [
    "# ブロッホ球の表示\n",
    "plot_bloch_multivector(result)"
   ]
  },
  {
   "cell_type": "markdown",
   "metadata": {},
   "source": [
    "次に、この状態を測定してみましょう。\n",
    "\n",
    "まず、測定回路を追加します。"
   ]
  },
  {
   "cell_type": "code",
   "execution_count": null,
   "metadata": {},
   "outputs": [],
   "source": [
    "# ２量子ビット回路を作成します。\n",
    "q = QuantumCircuit(2,2)    # 2量子レジスターと2古典レジスターを用意します \n",
    "\n",
    "# ゲートを適用します。\n",
    "q.h(0)\n",
    "q.h(1)\n",
    "\n",
    "# 測定ゲートを追加\n",
    "q.measure(0,0)    # 量子ビットq0を測定して、古典レジスターc0に入れます\n",
    "q.measure(1,1)    # 量子ビットq1を測定して、古典レジスターc1に入れます\n",
    "\n",
    "# 回路を描画\n",
    "q.draw(output=\"mpl\")"
   ]
  },
  {
   "cell_type": "markdown",
   "metadata": {},
   "source": [
    "次にQASMシミュレーター（量子計算シミュレーター）で計算させ、測定します。1024回実行した結果、それぞれの状態が測定された回数を表示し、その測定確率をヒストグラムで表示します。"
   ]
  },
  {
   "cell_type": "code",
   "execution_count": null,
   "metadata": {},
   "outputs": [],
   "source": [
    "# QASMシミュレーターで実験\n",
    "simulator = Aer.get_backend('qasm_simulator')\n",
    "job = execute(q, backend=simulator, shots=1024)\n",
    "result = job.result()\n",
    "\n",
    "#  測定された回数を表示\n",
    "counts = result.get_counts(q)\n",
    "print(counts)\n",
    "\n",
    "## ヒストグラムで測定された確率をプロット\n",
    "from qiskit.visualization import *\n",
    "plot_histogram( counts )"
   ]
  },
  {
   "cell_type": "markdown",
   "metadata": {},
   "source": [
    "$|00\\rangle$、$|01\\rangle$、$|10\\rangle$、$|11\\rangle$の状態がほぼ25%ずつ均等に測定されました。"
   ]
  },
  {
   "cell_type": "markdown",
   "metadata": {},
   "source": [
    "### 演習1-1.\n",
    "２量子ビット回路を用意して、0番目の量子ビットと１番目の量子ビットの両方にXゲートを操作し、状態ベクトルシミュレーターを実行し、ブロッホ球を表示してみましょう。"
   ]
  },
  {
   "cell_type": "markdown",
   "metadata": {},
   "source": [
    "### 演習1-2.\n",
    "２量子ビット回路を用意して、0番目の量子ビットと１番目の量子ビットの両方にXゲートを操作した後、Hゲートを操作し、状態ベクトルシミュレーターを実行し、ブロッホ球を表示してみましょう。次に測定ゲートを追加して、QASMシミュレーターを実行して、結果をヒストグラムで表示してみましょう。"
   ]
  },
  {
   "cell_type": "code",
   "execution_count": 36,
   "metadata": {
    "scrolled": true
   },
   "outputs": [
    {
     "data": {
      "text/plain": [
       "{'qiskit-terra': '0.13.0',\n",
       " 'qiskit-aer': '0.5.1',\n",
       " 'qiskit-ignis': '0.3.0',\n",
       " 'qiskit-ibmq-provider': '0.7.0',\n",
       " 'qiskit-aqua': None,\n",
       " 'qiskit': '0.19.1'}"
      ]
     },
     "execution_count": 36,
     "metadata": {},
     "output_type": "execute_result"
    }
   ],
   "source": [
    "# Qiskitバージョンの確認\n",
    "from qiskit import *\n",
    "qiskit.__qiskit_version__"
   ]
  },
  {
   "cell_type": "code",
   "execution_count": null,
   "metadata": {},
   "outputs": [],
   "source": []
  }
 ],
 "metadata": {
  "kernelspec": {
   "display_name": "Python 3",
   "language": "python",
   "name": "python3"
  },
  "language_info": {
   "codemirror_mode": {
    "name": "ipython",
    "version": 3
   },
   "file_extension": ".py",
   "mimetype": "text/x-python",
   "name": "python",
   "nbconvert_exporter": "python",
   "pygments_lexer": "ipython3",
   "version": "3.8.5"
  }
 },
 "nbformat": 4,
 "nbformat_minor": 2
}
